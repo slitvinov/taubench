{
  "cells": [
    {
      "cell_type": "markdown",
      "id": "638af8d0-01f1-44ca-bcd7-08dbf245f194",
      "metadata": {
        "id": "638af8d0-01f1-44ca-bcd7-08dbf245f194"
      },
      "source": [
        "[![Open In Colab](https://colab.research.google.com/assets/colab-badge.svg)](https://colab.research.google.com/github/slitvinov/taubench/blob/master/notebook/main.ipynb)"
      ]
    },
    {
      "cell_type": "code",
      "execution_count": 2,
      "id": "0JB1029Epexp",
      "metadata": {
        "id": "0JB1029Epexp"
      },
      "outputs": [],
      "source": [
        "%%sh\n",
        "if ! test -f .clone\n",
        "then git clone --depth 1 --quiet https://github.com/slitvinov/taubench &&\n",
        "     : > .clone\n",
        "fi"
      ]
    },
    {
      "cell_type": "code",
      "execution_count": 3,
      "id": "xQi-6S4Cp8pc",
      "metadata": {
        "colab": {
          "base_uri": "https://localhost:8080/"
        },
        "id": "xQi-6S4Cp8pc",
        "outputId": "3b56bec4-f932-4e69-93a9-28288f023495"
      },
      "outputs": [
        {
          "output_type": "stream",
          "name": "stdout",
          "text": [
            "mpicc -g -O2 flux.c -c\n",
            "mpicc -g -O2 main.c -c\n",
            "mpicc -g -O2 lim.c -c\n",
            "mpicc -g -O2 smooth.c -c\n",
            "mpicc flux.o main.o lim.o smooth.o   -lm -o taubench\n",
            "mkdir -p '/usr/bin'\n",
            "cp -- taubench '/usr/bin'\n"
          ]
        }
      ],
      "source": [
        "%%sh\n",
        "cd taubench\n",
        "make install"
      ]
    },
    {
      "cell_type": "code",
      "source": [
        "%env OMPI_ALLOW_RUN_AS_ROOT=1\n",
        "%env OMPI_ALLOW_RUN_AS_ROOT_CONFIRM=1"
      ],
      "metadata": {
        "id": "qPuA3n8WbP2J",
        "outputId": "8fd99ad6-6d81-40f9-bd32-c3296c208c44",
        "colab": {
          "base_uri": "https://localhost:8080/"
        }
      },
      "id": "qPuA3n8WbP2J",
      "execution_count": 12,
      "outputs": [
        {
          "output_type": "stream",
          "name": "stdout",
          "text": [
            "env: OMPI_ALLOW_RUN_AS_ROOT=1\n",
            "env: OMPI_ALLOW_RUN_AS_ROOT_CONFIRM=1\n"
          ]
        }
      ]
    },
    {
      "cell_type": "code",
      "execution_count": 13,
      "id": "2d3903f6-1f14-4723-b982-4f1b1f36b26d",
      "metadata": {
        "id": "2d3903f6-1f14-4723-b982-4f1b1f36b26d",
        "outputId": "1d366f80-58d2-49f1-9792-31171dab414b",
        "colab": {
          "base_uri": "https://localhost:8080/"
        }
      },
      "outputs": [
        {
          "output_type": "stream",
          "name": "stdout",
          "text": [
            "This is TauBench.\n",
            "Evaluating kernels - please be patient.\n",
            "..........\n",
            "\n",
            "        - kernel_1_0 :      0.463 secs -   3040.153 mflops\n",
            "        - kernel_1_1 :      0.174 secs -   1251.414 mflops\n",
            "        - kernel_2_1 :      0.362 secs -   2745.466 mflops\n",
            "        - kernel_2_2 :      0.361 secs -   3378.824 mflops\n",
            "        - kernel_2_3 :      0.151 secs -   1633.956 mflops\n",
            "        - kernel_2_4 :      0.160 secs -   3467.137 mflops\n",
            "        - kernel_3_0 :      0.545 secs -   5023.331 mflops\n",
            "\n",
            "               total :      2.111 secs -   2999.400 mflops\n",
            "\n",
            "points     :     100000\n",
            "steps      :         10\n",
            "procs      :          1\n",
            "\n",
            "comp       :      2.102 secs\n",
            "comm       :      0.008 secs\n",
            "comm ratio :      0.004\n",
            "\n"
          ]
        }
      ],
      "source": [
        "%%sh\n",
        "mpiexec taubench -n 100000 -s 10"
      ]
    }
  ],
  "metadata": {
    "colab": {
      "provenance": []
    },
    "kernelspec": {
      "display_name": "Python 3 (ipykernel)",
      "language": "python",
      "name": "python3"
    },
    "language_info": {
      "codemirror_mode": {
        "name": "ipython",
        "version": 3
      },
      "file_extension": ".py",
      "mimetype": "text/x-python",
      "name": "python",
      "nbconvert_exporter": "python",
      "pygments_lexer": "ipython3",
      "version": "3.8.10"
    }
  },
  "nbformat": 4,
  "nbformat_minor": 5
}
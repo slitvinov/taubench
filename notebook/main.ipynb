{
 "cells": [
  {
   "cell_type": "markdown",
   "id": "638af8d0-01f1-44ca-bcd7-08dbf245f194",
   "metadata": {
    "id": "638af8d0-01f1-44ca-bcd7-08dbf245f194"
   },
   "source": [
    "[![Open In Colab](https://colab.research.google.com/assets/colab-badge.svg)](https://colab.research.google.com/github/slitvinov/dcomex-framework/blob/master/notebook/bio.ipynb)"
   ]
  },
  {
   "cell_type": "code",
   "execution_count": null,
   "id": "0JB1029Epexp",
   "metadata": {
    "id": "0JB1029Epexp"
   },
   "outputs": [],
   "source": [
    "%%sh\n",
    "rm -rf .clone tau*\n",
    "if ! test -f .clone\n",
    "then git clone --depth 1 --quiet https://github.com/slitvinov/taubench &&\n",
    "     : > .clone\n",
    "fi"
   ]
  },
  {
   "cell_type": "code",
   "execution_count": null,
   "id": "xQi-6S4Cp8pc",
   "metadata": {
    "colab": {
     "base_uri": "https://localhost:8080/"
    },
    "id": "xQi-6S4Cp8pc",
    "outputId": "cb0bccd7-d9db-4128-bbec-3b9178143a9a"
   },
   "outputs": [],
   "source": [
    "%%sh\n",
    "cd taubench\n",
    "make install"
   ]
  },
  {
   "cell_type": "code",
   "execution_count": null,
   "id": "2d3903f6-1f14-4723-b982-4f1b1f36b26d",
   "metadata": {},
   "outputs": [],
   "source": [
    "%%sh\n",
    "mpiexec -n 2 ./taubench -n 100000 -s 10"
   ]
  }
 ],
 "metadata": {
  "colab": {
   "provenance": []
  },
  "kernelspec": {
   "display_name": "Python 3 (ipykernel)",
   "language": "python",
   "name": "python3"
  },
  "language_info": {
   "codemirror_mode": {
    "name": "ipython",
    "version": 3
   },
   "file_extension": ".py",
   "mimetype": "text/x-python",
   "name": "python",
   "nbconvert_exporter": "python",
   "pygments_lexer": "ipython3",
   "version": "3.8.10"
  }
 },
 "nbformat": 4,
 "nbformat_minor": 5
}
